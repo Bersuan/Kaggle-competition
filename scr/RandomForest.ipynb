{
 "cells": [
  {
   "cell_type": "code",
   "execution_count": null,
   "metadata": {},
   "outputs": [],
   "source": [
    "from pandas import Series, DataFrame\n",
    "import pandas as pd\n",
    "import numpy as np\n",
    "import os\n",
    "import matplotlib.pylab as plt\n",
    "from sklearn.model_selection import train_test_split\n",
    "from sklearn.tree import DecisionTreeClassifier\n",
    "from sklearn.metrics import classification_report\n",
    "import sklearn.metrics\n",
    "from sklearn.ensemble import GradientBoostingClassifier, RandomForestClassifier"
   ]
  },
  {
   "cell_type": "code",
   "execution_count": 2,
   "metadata": {},
   "outputs": [
    {
     "data": {
      "text/html": [
       "<div>\n",
       "<style scoped>\n",
       "    .dataframe tbody tr th:only-of-type {\n",
       "        vertical-align: middle;\n",
       "    }\n",
       "\n",
       "    .dataframe tbody tr th {\n",
       "        vertical-align: top;\n",
       "    }\n",
       "\n",
       "    .dataframe thead th {\n",
       "        text-align: right;\n",
       "    }\n",
       "</style>\n",
       "<table border=\"1\" class=\"dataframe\">\n",
       "  <thead>\n",
       "    <tr style=\"text-align: right;\">\n",
       "      <th></th>\n",
       "      <th>carat</th>\n",
       "      <th>cut</th>\n",
       "      <th>color</th>\n",
       "      <th>clarity</th>\n",
       "      <th>depth</th>\n",
       "      <th>table</th>\n",
       "      <th>x</th>\n",
       "      <th>y</th>\n",
       "      <th>z</th>\n",
       "      <th>price</th>\n",
       "    </tr>\n",
       "    <tr>\n",
       "      <th>id</th>\n",
       "      <th></th>\n",
       "      <th></th>\n",
       "      <th></th>\n",
       "      <th></th>\n",
       "      <th></th>\n",
       "      <th></th>\n",
       "      <th></th>\n",
       "      <th></th>\n",
       "      <th></th>\n",
       "      <th></th>\n",
       "    </tr>\n",
       "  </thead>\n",
       "  <tbody>\n",
       "    <tr>\n",
       "      <th>0</th>\n",
       "      <td>0.78</td>\n",
       "      <td>Premium</td>\n",
       "      <td>F</td>\n",
       "      <td>VS1</td>\n",
       "      <td>61.5</td>\n",
       "      <td>58.0</td>\n",
       "      <td>5.93</td>\n",
       "      <td>5.98</td>\n",
       "      <td>3.66</td>\n",
       "      <td>3446</td>\n",
       "    </tr>\n",
       "    <tr>\n",
       "      <th>1</th>\n",
       "      <td>0.31</td>\n",
       "      <td>Ideal</td>\n",
       "      <td>D</td>\n",
       "      <td>SI1</td>\n",
       "      <td>60.8</td>\n",
       "      <td>56.0</td>\n",
       "      <td>4.37</td>\n",
       "      <td>4.32</td>\n",
       "      <td>2.64</td>\n",
       "      <td>732</td>\n",
       "    </tr>\n",
       "    <tr>\n",
       "      <th>2</th>\n",
       "      <td>0.30</td>\n",
       "      <td>Ideal</td>\n",
       "      <td>F</td>\n",
       "      <td>SI1</td>\n",
       "      <td>62.3</td>\n",
       "      <td>54.0</td>\n",
       "      <td>4.30</td>\n",
       "      <td>4.34</td>\n",
       "      <td>2.69</td>\n",
       "      <td>475</td>\n",
       "    </tr>\n",
       "    <tr>\n",
       "      <th>3</th>\n",
       "      <td>1.04</td>\n",
       "      <td>Ideal</td>\n",
       "      <td>E</td>\n",
       "      <td>VVS2</td>\n",
       "      <td>62.0</td>\n",
       "      <td>58.0</td>\n",
       "      <td>6.54</td>\n",
       "      <td>6.46</td>\n",
       "      <td>4.03</td>\n",
       "      <td>9552</td>\n",
       "    </tr>\n",
       "    <tr>\n",
       "      <th>4</th>\n",
       "      <td>0.65</td>\n",
       "      <td>Ideal</td>\n",
       "      <td>J</td>\n",
       "      <td>SI1</td>\n",
       "      <td>61.4</td>\n",
       "      <td>55.0</td>\n",
       "      <td>5.58</td>\n",
       "      <td>5.62</td>\n",
       "      <td>3.44</td>\n",
       "      <td>1276</td>\n",
       "    </tr>\n",
       "  </tbody>\n",
       "</table>\n",
       "</div>"
      ],
      "text/plain": [
       "    carat      cut color clarity  depth  table     x     y     z  price\n",
       "id                                                                     \n",
       "0    0.78  Premium     F     VS1   61.5   58.0  5.93  5.98  3.66   3446\n",
       "1    0.31    Ideal     D     SI1   60.8   56.0  4.37  4.32  2.64    732\n",
       "2    0.30    Ideal     F     SI1   62.3   54.0  4.30  4.34  2.69    475\n",
       "3    1.04    Ideal     E    VVS2   62.0   58.0  6.54  6.46  4.03   9552\n",
       "4    0.65    Ideal     J     SI1   61.4   55.0  5.58  5.62  3.44   1276"
      ]
     },
     "execution_count": 2,
     "metadata": {},
     "output_type": "execute_result"
    }
   ],
   "source": [
    "df = pd.read_csv('/Users/santiagobermejo/Desktop/IRONHACK/Kaggle-competition/input/diamonds_train.csv')\n",
    "df = df.set_index('id')\n",
    "df.head()"
   ]
  },
  {
   "cell_type": "code",
   "execution_count": 3,
   "metadata": {},
   "outputs": [],
   "source": [
    "y = df.price"
   ]
  },
  {
   "cell_type": "code",
   "execution_count": 4,
   "metadata": {},
   "outputs": [],
   "source": [
    "X = df.drop(['price'], axis=1)"
   ]
  },
  {
   "cell_type": "code",
   "execution_count": 5,
   "metadata": {},
   "outputs": [],
   "source": [
    "X = pd.get_dummies(X)"
   ]
  },
  {
   "cell_type": "code",
   "execution_count": 6,
   "metadata": {},
   "outputs": [
    {
     "data": {
      "text/html": [
       "<div>\n",
       "<style scoped>\n",
       "    .dataframe tbody tr th:only-of-type {\n",
       "        vertical-align: middle;\n",
       "    }\n",
       "\n",
       "    .dataframe tbody tr th {\n",
       "        vertical-align: top;\n",
       "    }\n",
       "\n",
       "    .dataframe thead th {\n",
       "        text-align: right;\n",
       "    }\n",
       "</style>\n",
       "<table border=\"1\" class=\"dataframe\">\n",
       "  <thead>\n",
       "    <tr style=\"text-align: right;\">\n",
       "      <th></th>\n",
       "      <th>carat</th>\n",
       "      <th>depth</th>\n",
       "      <th>table</th>\n",
       "      <th>x</th>\n",
       "      <th>y</th>\n",
       "      <th>z</th>\n",
       "      <th>cut_Fair</th>\n",
       "      <th>cut_Good</th>\n",
       "      <th>cut_Ideal</th>\n",
       "      <th>cut_Premium</th>\n",
       "      <th>...</th>\n",
       "      <th>color_I</th>\n",
       "      <th>color_J</th>\n",
       "      <th>clarity_I1</th>\n",
       "      <th>clarity_IF</th>\n",
       "      <th>clarity_SI1</th>\n",
       "      <th>clarity_SI2</th>\n",
       "      <th>clarity_VS1</th>\n",
       "      <th>clarity_VS2</th>\n",
       "      <th>clarity_VVS1</th>\n",
       "      <th>clarity_VVS2</th>\n",
       "    </tr>\n",
       "  </thead>\n",
       "  <tbody>\n",
       "    <tr>\n",
       "      <th>0</th>\n",
       "      <td>-0.009185</td>\n",
       "      <td>-0.043055</td>\n",
       "      <td>0.060664</td>\n",
       "      <td>0.043707</td>\n",
       "      <td>0.052413</td>\n",
       "      <td>0.043223</td>\n",
       "      <td>-0.043135</td>\n",
       "      <td>-0.077411</td>\n",
       "      <td>-0.201014</td>\n",
       "      <td>0.420328</td>\n",
       "      <td>...</td>\n",
       "      <td>-0.082722</td>\n",
       "      <td>-0.057244</td>\n",
       "      <td>-0.029230</td>\n",
       "      <td>-0.045923</td>\n",
       "      <td>-0.138582</td>\n",
       "      <td>-0.111649</td>\n",
       "      <td>0.583680</td>\n",
       "      <td>-0.133445</td>\n",
       "      <td>-0.066418</td>\n",
       "      <td>-0.079824</td>\n",
       "    </tr>\n",
       "    <tr>\n",
       "      <th>1</th>\n",
       "      <td>-0.225122</td>\n",
       "      <td>-0.145639</td>\n",
       "      <td>-0.142044</td>\n",
       "      <td>-0.265599</td>\n",
       "      <td>-0.268997</td>\n",
       "      <td>-0.282862</td>\n",
       "      <td>-0.038366</td>\n",
       "      <td>-0.068852</td>\n",
       "      <td>0.268102</td>\n",
       "      <td>-0.128215</td>\n",
       "      <td>...</td>\n",
       "      <td>-0.073576</td>\n",
       "      <td>-0.050915</td>\n",
       "      <td>-0.025999</td>\n",
       "      <td>-0.040846</td>\n",
       "      <td>0.388885</td>\n",
       "      <td>-0.099305</td>\n",
       "      <td>-0.092332</td>\n",
       "      <td>-0.118692</td>\n",
       "      <td>-0.059075</td>\n",
       "      <td>-0.070999</td>\n",
       "    </tr>\n",
       "    <tr>\n",
       "      <th>2</th>\n",
       "      <td>-0.233629</td>\n",
       "      <td>0.085814</td>\n",
       "      <td>-0.343770</td>\n",
       "      <td>-0.283992</td>\n",
       "      <td>-0.269686</td>\n",
       "      <td>-0.271636</td>\n",
       "      <td>-0.039016</td>\n",
       "      <td>-0.070019</td>\n",
       "      <td>0.272643</td>\n",
       "      <td>-0.130387</td>\n",
       "      <td>...</td>\n",
       "      <td>-0.074822</td>\n",
       "      <td>-0.051778</td>\n",
       "      <td>-0.026439</td>\n",
       "      <td>-0.041538</td>\n",
       "      <td>0.395472</td>\n",
       "      <td>-0.100987</td>\n",
       "      <td>-0.093896</td>\n",
       "      <td>-0.120702</td>\n",
       "      <td>-0.060076</td>\n",
       "      <td>-0.072201</td>\n",
       "    </tr>\n",
       "    <tr>\n",
       "      <th>3</th>\n",
       "      <td>0.113765</td>\n",
       "      <td>0.039039</td>\n",
       "      <td>0.054883</td>\n",
       "      <td>0.160641</td>\n",
       "      <td>0.140246</td>\n",
       "      <td>0.157656</td>\n",
       "      <td>-0.039024</td>\n",
       "      <td>-0.070034</td>\n",
       "      <td>0.272703</td>\n",
       "      <td>-0.130415</td>\n",
       "      <td>...</td>\n",
       "      <td>-0.074838</td>\n",
       "      <td>-0.051789</td>\n",
       "      <td>-0.026445</td>\n",
       "      <td>-0.041547</td>\n",
       "      <td>-0.125375</td>\n",
       "      <td>-0.101009</td>\n",
       "      <td>-0.093916</td>\n",
       "      <td>-0.120728</td>\n",
       "      <td>-0.060089</td>\n",
       "      <td>0.686727</td>\n",
       "    </tr>\n",
       "    <tr>\n",
       "      <th>4</th>\n",
       "      <td>-0.059535</td>\n",
       "      <td>-0.046831</td>\n",
       "      <td>-0.209615</td>\n",
       "      <td>-0.025706</td>\n",
       "      <td>-0.019061</td>\n",
       "      <td>-0.026946</td>\n",
       "      <td>-0.033503</td>\n",
       "      <td>-0.060124</td>\n",
       "      <td>0.234117</td>\n",
       "      <td>-0.111962</td>\n",
       "      <td>...</td>\n",
       "      <td>-0.064249</td>\n",
       "      <td>0.822104</td>\n",
       "      <td>-0.022703</td>\n",
       "      <td>-0.035668</td>\n",
       "      <td>0.339589</td>\n",
       "      <td>-0.086717</td>\n",
       "      <td>-0.080628</td>\n",
       "      <td>-0.103646</td>\n",
       "      <td>-0.051587</td>\n",
       "      <td>-0.061998</td>\n",
       "    </tr>\n",
       "  </tbody>\n",
       "</table>\n",
       "<p>5 rows × 26 columns</p>\n",
       "</div>"
      ],
      "text/plain": [
       "      carat     depth     table         x         y         z  cut_Fair  \\\n",
       "0 -0.009185 -0.043055  0.060664  0.043707  0.052413  0.043223 -0.043135   \n",
       "1 -0.225122 -0.145639 -0.142044 -0.265599 -0.268997 -0.282862 -0.038366   \n",
       "2 -0.233629  0.085814 -0.343770 -0.283992 -0.269686 -0.271636 -0.039016   \n",
       "3  0.113765  0.039039  0.054883  0.160641  0.140246  0.157656 -0.039024   \n",
       "4 -0.059535 -0.046831 -0.209615 -0.025706 -0.019061 -0.026946 -0.033503   \n",
       "\n",
       "   cut_Good  cut_Ideal  cut_Premium  ...   color_I   color_J  clarity_I1  \\\n",
       "0 -0.077411  -0.201014     0.420328  ... -0.082722 -0.057244   -0.029230   \n",
       "1 -0.068852   0.268102    -0.128215  ... -0.073576 -0.050915   -0.025999   \n",
       "2 -0.070019   0.272643    -0.130387  ... -0.074822 -0.051778   -0.026439   \n",
       "3 -0.070034   0.272703    -0.130415  ... -0.074838 -0.051789   -0.026445   \n",
       "4 -0.060124   0.234117    -0.111962  ... -0.064249  0.822104   -0.022703   \n",
       "\n",
       "   clarity_IF  clarity_SI1  clarity_SI2  clarity_VS1  clarity_VS2  \\\n",
       "0   -0.045923    -0.138582    -0.111649     0.583680    -0.133445   \n",
       "1   -0.040846     0.388885    -0.099305    -0.092332    -0.118692   \n",
       "2   -0.041538     0.395472    -0.100987    -0.093896    -0.120702   \n",
       "3   -0.041547    -0.125375    -0.101009    -0.093916    -0.120728   \n",
       "4   -0.035668     0.339589    -0.086717    -0.080628    -0.103646   \n",
       "\n",
       "   clarity_VVS1  clarity_VVS2  \n",
       "0     -0.066418     -0.079824  \n",
       "1     -0.059075     -0.070999  \n",
       "2     -0.060076     -0.072201  \n",
       "3     -0.060089      0.686727  \n",
       "4     -0.051587     -0.061998  \n",
       "\n",
       "[5 rows x 26 columns]"
      ]
     },
     "execution_count": 6,
     "metadata": {},
     "output_type": "execute_result"
    }
   ],
   "source": [
    "from sklearn.preprocessing import StandardScaler, Normalizer\n",
    "from sklearn.pipeline import make_pipeline\n",
    "pipeline = [\n",
    "    StandardScaler(),\n",
    "    Normalizer(),\n",
    "]\n",
    "\n",
    "tr = make_pipeline(*pipeline)\n",
    "\n",
    "Xpr = tr.fit_transform(X)\n",
    "Xpr = pd.DataFrame(Xpr,columns=X.columns)\n",
    "Xpr.head()"
   ]
  },
  {
   "cell_type": "code",
   "execution_count": 7,
   "metadata": {},
   "outputs": [],
   "source": [
    "from sklearn.model_selection import train_test_split\n",
    "\n",
    "Xpr_train, Xpr_test, y_train, y_test = train_test_split(Xpr, y, test_size=0.2)"
   ]
  },
  {
   "cell_type": "code",
   "execution_count": 8,
   "metadata": {},
   "outputs": [
    {
     "name": "stdout",
     "output_type": "stream",
     "text": [
      "(32276, 26)\n",
      "(8069, 26)\n",
      "(32276,)\n",
      "(8069,)\n"
     ]
    }
   ],
   "source": [
    "print(Xpr_train.shape)\n",
    "print(Xpr_test.shape)\n",
    "print(y_train.shape)\n",
    "print(y_test.shape)"
   ]
  },
  {
   "cell_type": "code",
   "execution_count": null,
   "metadata": {},
   "outputs": [],
   "source": [
    "model = RandomForestClassifier()\n",
    "\n",
    "model.fit(Xpr_train, y_train)"
   ]
  },
  {
   "cell_type": "code",
   "execution_count": null,
   "metadata": {},
   "outputs": [],
   "source": [
    "predictions=model.predict(Xpr)"
   ]
  },
  {
   "cell_type": "code",
   "execution_count": null,
   "metadata": {},
   "outputs": [],
   "source": [
    "predictions.shape"
   ]
  },
  {
   "cell_type": "markdown",
   "metadata": {},
   "source": [
    "TEST"
   ]
  },
  {
   "cell_type": "code",
   "execution_count": null,
   "metadata": {},
   "outputs": [],
   "source": [
    "X1 = pd.read_csv('/Users/santiagobermejo/Desktop/IRONHACK/Kaggle-competition/input/diamonds_test.csv')\n",
    "X1 = X1.set_index('id')\n",
    "X1.head()"
   ]
  },
  {
   "cell_type": "code",
   "execution_count": null,
   "metadata": {},
   "outputs": [],
   "source": [
    "X1.shape"
   ]
  },
  {
   "cell_type": "code",
   "execution_count": null,
   "metadata": {},
   "outputs": [],
   "source": [
    "X1 = X1.set_index('id')"
   ]
  },
  {
   "cell_type": "code",
   "execution_count": null,
   "metadata": {},
   "outputs": [],
   "source": [
    "X1 = pd.get_dummies(X1)"
   ]
  },
  {
   "cell_type": "code",
   "execution_count": null,
   "metadata": {},
   "outputs": [],
   "source": [
    "from sklearn.preprocessing import StandardScaler, Normalizer\n",
    "from sklearn.pipeline import make_pipeline\n",
    "pipeline = [\n",
    "    StandardScaler(),\n",
    "    Normalizer(),\n",
    "]\n",
    "\n",
    "tr = make_pipeline(*pipeline)\n",
    "\n",
    "Xpr1 = tr.fit_transform(X1)\n",
    "Xpr1 = pd.DataFrame(Xpr1,columns=X1.columns)"
   ]
  },
  {
   "cell_type": "code",
   "execution_count": null,
   "metadata": {},
   "outputs": [],
   "source": [
    "Xpr1.head()"
   ]
  },
  {
   "cell_type": "code",
   "execution_count": null,
   "metadata": {},
   "outputs": [],
   "source": [
    "price = model.predict(Xpr1)"
   ]
  },
  {
   "cell_type": "code",
   "execution_count": null,
   "metadata": {},
   "outputs": [],
   "source": [
    "Xpr1['price']=price"
   ]
  },
  {
   "cell_type": "code",
   "execution_count": null,
   "metadata": {},
   "outputs": [],
   "source": [
    "df_submmit = Xpr1[['price']]"
   ]
  },
  {
   "cell_type": "code",
   "execution_count": null,
   "metadata": {},
   "outputs": [],
   "source": [
    "df_submmit.index.name='id'"
   ]
  },
  {
   "cell_type": "code",
   "execution_count": null,
   "metadata": {},
   "outputs": [],
   "source": [
    "df_submmit"
   ]
  },
  {
   "cell_type": "code",
   "execution_count": null,
   "metadata": {},
   "outputs": [],
   "source": [
    "df_submmit.to_csv(\"/Users/santiagobermejo/Desktop/IRONHACK/Kaggle-competition/input/RandomForest.csv\")"
   ]
  },
  {
   "cell_type": "code",
   "execution_count": null,
   "metadata": {},
   "outputs": [],
   "source": []
  }
 ],
 "metadata": {
  "kernelspec": {
   "display_name": "Python 3",
   "language": "python",
   "name": "python3"
  },
  "language_info": {
   "codemirror_mode": {
    "name": "ipython",
    "version": 3
   },
   "file_extension": ".py",
   "mimetype": "text/x-python",
   "name": "python",
   "nbconvert_exporter": "python",
   "pygments_lexer": "ipython3",
   "version": "3.8.1"
  }
 },
 "nbformat": 4,
 "nbformat_minor": 4
}
